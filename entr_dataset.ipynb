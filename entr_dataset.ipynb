{
 "cells": [
  {
   "cell_type": "markdown",
   "metadata": {},
   "source": [
    "# Projet fin de semestre informatique\n",
    "## Entrainement réseau de neurones sur le dataset Cifar10"
   ]
  },
  {
   "cell_type": "code",
   "execution_count": 1,
   "metadata": {},
   "outputs": [],
   "source": [
    "import pandas as pd \n",
    "import numpy as np\n",
    "import matplotlib.pyplot as plt \n",
    "from keras.datasets import cifar10\n",
    "\n",
    "\n",
    "(x_train, y_train), (x_test, y_test) = cifar10.load_data()\n",
    "\n"
   ]
  },
  {
   "cell_type": "code",
   "execution_count": 2,
   "metadata": {},
   "outputs": [],
   "source": [
    "#Importation des notre document\n",
    "from NN_dataset import *\n"
   ]
  },
  {
   "cell_type": "markdown",
   "metadata": {},
   "source": [
    "### Comprehension des données "
   ]
  },
  {
   "cell_type": "markdown",
   "metadata": {},
   "source": [
    "Regardons les dimensions du dataset que nous venons de télécharger. Nous utilisons la commande \".shape\" du module pandas qui renvoie un tuple avec les dimensions des données.\n"
   ]
  },
  {
   "cell_type": "code",
   "execution_count": 3,
   "metadata": {},
   "outputs": [
    {
     "data": {
      "text/plain": [
       "(50000, 32, 32, 3)"
      ]
     },
     "execution_count": 3,
     "metadata": {},
     "output_type": "execute_result"
    }
   ],
   "source": [
    "x_train.shape\n"
   ]
  },
  {
   "cell_type": "code",
   "execution_count": 4,
   "metadata": {},
   "outputs": [
    {
     "data": {
      "text/plain": [
       "(50000, 1)"
      ]
     },
     "execution_count": 4,
     "metadata": {},
     "output_type": "execute_result"
    }
   ],
   "source": [
    "y_train.shape"
   ]
  },
  {
   "cell_type": "code",
   "execution_count": 5,
   "metadata": {},
   "outputs": [
    {
     "data": {
      "text/plain": [
       "array([[6],\n",
       "       [9],\n",
       "       [9],\n",
       "       ...,\n",
       "       [9],\n",
       "       [1],\n",
       "       [1]], dtype=uint8)"
      ]
     },
     "execution_count": 5,
     "metadata": {},
     "output_type": "execute_result"
    }
   ],
   "source": [
    "y_train"
   ]
  },
  {
   "cell_type": "code",
   "execution_count": 6,
   "metadata": {},
   "outputs": [
    {
     "data": {
      "text/plain": [
       "(10000, 32, 32, 3)"
      ]
     },
     "execution_count": 6,
     "metadata": {},
     "output_type": "execute_result"
    }
   ],
   "source": [
    "x_test.shape"
   ]
  },
  {
   "cell_type": "code",
   "execution_count": 7,
   "metadata": {},
   "outputs": [
    {
     "data": {
      "text/plain": [
       "(10000, 1)"
      ]
     },
     "execution_count": 7,
     "metadata": {},
     "output_type": "execute_result"
    }
   ],
   "source": [
    "y_test.shape"
   ]
  },
  {
   "cell_type": "markdown",
   "metadata": {},
   "source": [
    "On obtient donc 4 variables: \n",
    "- x_train : c'est un numpy array de 50.000 images chacune composées de 32x32 pixels, chacun contenant 3 données (RGB)\n",
    "- y_train : Représente les catégories associées à chaque image. C'est donc une liste de 50.000 valeurs comprises entre 0 et 9\n",
    "- x_test : c'est un numpy array de 10.000 images chacune composées de 32x32 pixels, chacun contenant 3 données (RGB)\n",
    "- y_test : Représente les catégories associées à chaque image. C'est donc une liste de 10.000 valeurs comprises entre 0 et 9\n",
    "\n",
    "Il y a 10 catégories: airplane, automobile, bird, cat deer, dog, frog, horse, ship et truck"
   ]
  },
  {
   "cell_type": "markdown",
   "metadata": {},
   "source": [
    "### Visualization des données \n",
    "\n",
    "Regardons à quoi ressemble les données téléchargées. Nous choisissons aléatoirement un nombre et nous regardons à quelle photo, indice et catégorie lui correspond."
   ]
  },
  {
   "cell_type": "code",
   "execution_count": 8,
   "metadata": {},
   "outputs": [
    {
     "name": "stdout",
     "output_type": "stream",
     "text": [
      "1\n",
      "automobile\n"
     ]
    },
    {
     "name": "stderr",
     "output_type": "stream",
     "text": [
      "/var/folders/4y/tytpgp396q94l9j_r7qwzqq00000gn/T/ipykernel_94678/2578263269.py:7: DeprecationWarning: Conversion of an array with ndim > 0 to a scalar is deprecated, and will error in future. Ensure you extract a single element from your array before performing this operation. (Deprecated NumPy 1.25.)\n",
      "  number = int(y_train[index])\n"
     ]
    },
    {
     "data": {
      "image/png": "[encoded data removed]",
      "text/plain": [
       "<Figure size 300x500 with 1 Axes>"
      ]
     },
     "metadata": {},
     "output_type": "display_data"
    }
   ],
   "source": [
    "\n",
    "class_names = ['airplane', 'automobile', 'bird', 'cat', 'deer', 'dog', 'frog', 'horse', 'ship', 'truck']\n",
    "\n",
    "plt.figure(figsize=(3, 5))\n",
    "index = np.random.randint(len(x_train))\n",
    "img = x_train[index]\n",
    "plt.imshow(img)\n",
    "number = int(y_train[index])\n",
    "print(number)\n",
    "category = class_names[number]\n",
    "print(category)\n"
   ]
  },
  {
   "cell_type": "markdown",
   "metadata": {},
   "source": [
    "### Séléctionner des images d'une même catégorie"
   ]
  },
  {
   "cell_type": "markdown",
   "metadata": {},
   "source": [
    "On crée une fonction *choose_category* qui nous permet de choisir uniquement les images d'une catégorie particulière afin d'entrainer notre modèle sur des images proches, et obtenir des résultats cohérents. \n",
    "\n",
    "Cette fonction prend en argument X: le dataset parmet lequel il faut choisir les images, y: les index correspondant à chacunes de images, et enfin a: le numéro de la catégorie choisie. \n",
    "\n",
    "Cette fonction renvoie deux variables: x_train_category qui est une liste contenant toutes les images de la catégorie souhaitée, et y_train_category qui est une liste d'entiers naturels de la taille de la longueure de la liste x_train_category (y = [0, 1, 2, ..., len(x)])\n"
   ]
  },
  {
   "cell_type": "code",
   "execution_count": 9,
   "metadata": {},
   "outputs": [],
   "source": [
    "x_train_cat, y_train_cat = choose_category(x_train, y_train, 2)"
   ]
  },
  {
   "cell_type": "code",
   "execution_count": 10,
   "metadata": {},
   "outputs": [
    {
     "name": "stdout",
     "output_type": "stream",
     "text": [
      "5000\n",
      "5000\n"
     ]
    }
   ],
   "source": [
    "print(len(x_train_cat))\n",
    "print(len(y_train_cat))"
   ]
  },
  {
   "cell_type": "markdown",
   "metadata": {},
   "source": [
    "On obtient donc x_train_cat, une liste de 5.000 images, issue de la liste x_train, représentant uniquement des oiseaux (catégorie 2)"
   ]
  },
  {
   "cell_type": "code",
   "execution_count": 11,
   "metadata": {},
   "outputs": [
    {
     "data": {
      "text/plain": [
       "<matplotlib.image.AxesImage at 0x177bf6ab0>"
      ]
     },
     "execution_count": 11,
     "metadata": {},
     "output_type": "execute_result"
    },
    {
     "data": {
      "image/png": "[encoded data removed]",
      "text/plain": [
       "<Figure size 500x300 with 1 Axes>"
      ]
     },
     "metadata": {},
     "output_type": "display_data"
    }
   ],
   "source": [
    "#Exemples d'images issues de la liste x_train_cat\n",
    "plt.figure(figsize = (5, 3))\n",
    "index = np.random.randint(len(x_train_cat))\n",
    "plt.imshow(x_train_cat[index])"
   ]
  },
  {
   "cell_type": "markdown",
   "metadata": {},
   "source": [
    "### Appliquer un masque à une image\n"
   ]
  },
  {
   "cell_type": "markdown",
   "metadata": {},
   "source": [
    "La fonction *mask* prend 2 variables en argument: imgs est une liste d'images, et mask_size, la taille du masque que nous voulons appliquer.\n",
    "\n",
    "Pour chaque image contenue dans la liste des images, on choisit aléatoirement une cordonnées de x et de y à partir de laquelle on veut appliquer le masque. On normalise l'image, de manière à ce que ses données soient comprises entre 0 et 1. On créer une variable **masked_img** qui est l'image avec le masque appliqué, et une variable **target** qui mémorise la partie de l'image sous le masque. Enfin, on rajoute ces variables (qui sont des listes), aux variables all_inputs, all_inputs_fl, all_targets, all_targets_fl, all_x_starts, all_y_starts. \n",
    "\n",
    "- imgs : liste de toutes les images originales\n",
    "- all_inupts: liste de liste contenant toutes les images masquées\n",
    "- all_inputs_fl : liste contenant toutes les données des images masquées, qui ont étaient aplaties (flattening)\n",
    "- all_targets : liste de liste contenant toutes les régions concernées sous les masques\n",
    "- all_targets_fl : liste contenant toutes les données des régions concernées qui ont été aplaties \n",
    "- all_x_starts : liste de liste de toutes les coordonnées des x de là où commence le masque pour chaque image\n",
    "- all_y_starts : liste de liste de toutes les coordonnées des y de là où commence le masque pour chaque image\n"
   ]
  },
  {
   "cell_type": "code",
   "execution_count": 12,
   "metadata": {},
   "outputs": [],
   "source": [
    "images, masked, masked_fl, target, target_fl, x, y = mask(x_train_cat, 3)"
   ]
  },
  {
   "cell_type": "code",
   "execution_count": 13,
   "metadata": {},
   "outputs": [
    {
     "data": {
      "text/plain": [
       "<matplotlib.image.AxesImage at 0x108fdce60>"
      ]
     },
     "execution_count": 13,
     "metadata": {},
     "output_type": "execute_result"
    },
    {
     "data": {
      "text/plain": [
       "<Figure size 500x300 with 0 Axes>"
      ]
     },
     "metadata": {},
     "output_type": "display_data"
    },
    {
     "data": {
      "image/png": "[encoded data removed]",
      "text/plain": [
       "<Figure size 640x480 with 3 Axes>"
      ]
     },
     "metadata": {},
     "output_type": "display_data"
    }
   ],
   "source": [
    "#Visualisation des résultats\n",
    "plt.figure(figsize = (5, 3))\n",
    "fig, axes = plt.subplots(1, 3)\n",
    "index = np.random.randint(len(images))\n",
    "axes[0].imshow(images[index])\n",
    "axes[1].imshow(masked[index])\n",
    "axes[2].imshow(target[index])\n",
    "\n"
   ]
  },
  {
   "cell_type": "markdown",
   "metadata": {},
   "source": [
    "### Visualiser nos résultats"
   ]
  },
  {
   "cell_type": "markdown",
   "metadata": {},
   "source": [
    "On créer également une fonction *visualization* qui permet de visualiser nos résultats, c'est-à-dire, de comparer l'image original, l'image avec masque, la région de l'image masquée, la région de l'image prédite, et l'image entière prédite, de toutes nos images contenues dans la listes \"images\".\n",
    "\n",
    "La fonction *visualization_mask* prend en argument 7 variables: \n",
    "- imgs : une liste de liste contenant toutes les images originales\n",
    "- masked : une liste de liste contenant toutes les images avec masque\n",
    "- target : une liste de liste contenant toutes les régions des images sous les \n",
    "- predicted : la prédiction de notre image après être passée par notre neural network\n",
    "- x et y : une liste de liste de toutes les coordonnées du point de départ de là où se situe nos masques\n",
    "- mask_size : la taille du masque\n",
    "\n",
    "Afin d'afficher la régio prédite (pred_region), on la reshape dans le bon format, de mask_size * mask_size * 3 car il y a trois données pour chacun des pixels "
   ]
  },
  {
   "cell_type": "markdown",
   "metadata": {},
   "source": [
    "### Fonction __ name __ == __ main __"
   ]
  },
  {
   "cell_type": "markdown",
   "metadata": {},
   "source": [
    "C'est dans cette fonction bien précise que va s'enchainer logiquement ce que notre programme devra faire"
   ]
  },
  {
   "cell_type": "markdown",
   "metadata": {},
   "source": [
    "#### **A: Pour les données d'entrainements** \n",
    "##### 1) On séléctionne nos données d'une catégorie précise\n",
    "\n",
    "On fait appel à la fonction *choose_category* pour choisir toutes les images correspondantes à la catégorie souhaitée parmis la liste des *x_train* images. On appelle *x_train_cat* la liste de ces images et *y_train_cat*, une liste d'entiers de la même longueur attribuée à chacune des images.\n",
    "\n",
    "##### 2) On applique un masque aux images de cette liste \n",
    "\n",
    "On fait appel à la fonction *mask()* pour masquer les images de la liste *x_train_cat*. On appelle les variables ressortant *x_train_mask* et *y_train_mask*, qui sont toutes les deux des np array\n",
    "\n",
    "#### **B: Pour les données de tests** \n",
    "##### 1) On séléctionne nos données d'une catégorie précise\n",
    "\n",
    "On fait appel à la fonction *choose_category* pour choisir toutes les images correspondantes à la catégorie souhaitée parmis la liste des *x_test* images. On appelle *x_test_cat* la liste de ces images. On raccourci la liste de maximum 1000 éléments (*max_img*) our éviter d'avoir des entrainements trop long. \n",
    "\n",
    "##### 2) On applique un masque aux images de cette liste \n",
    "\n",
    "On fait appel à la fonction *mask()* pour masquer les images de la liste *x_test_cat*. On appelle les variables ressortant *x_test_mask* et *y_test_mask*, qui sont toutes les deux des np array\n",
    "\n",
    "#### **C: Faire appel à notre NN**\n",
    "\n",
    "On détermine la *input_size* qui correspond à la taille des données d'entrées, ce qui est ici, une image. Donc, comme nous avons des images de 32 pixels x 32 pixels, et comme chaque pixels a trois données (R, G, B), alors\n",
    "\n",
    "input_size = 32 x 32 x 3\n",
    "\n",
    "De même nous voulons recevoir en sortie, une image de la taille de la target region, donc \n",
    "\n",
    "output_size = mask_size x mask_size x 3\n",
    "\n",
    "On sépare nos données d'entrainement, en donné d'entrainement et données de validation, pour entrainer le modèle avant de la faire prédire les *x_test_mask*\n",
    "\n",
    "Enfin, on appel notre NN avec la commande ' model = NN(input_size, hidden_size, output_size, learning_rate=0.001)', et on détermine la loss. Enfin, on l'affiche sur un graphe, avant de déterminer la variable y_pred et d'afficher la prédiction. "
   ]
  },
  {
   "cell_type": "markdown",
   "metadata": {},
   "source": [
    "### Comparaison avec un model trouvé sur internet qui fonctionne "
   ]
  }
 ],
 "metadata": {
  "kernelspec": {
   "display_name": "datascience",
   "language": "python",
   "name": "python3"
  },
  "language_info": {
   "codemirror_mode": {
    "name": "ipython",
    "version": 3
   },
   "file_extension": ".py",
   "mimetype": "text/x-python",
   "name": "python",
   "nbconvert_exporter": "python",
   "pygments_lexer": "ipython3",
   "version": "3.12.1"
  }
 },
 "nbformat": 4,
 "nbformat_minor": 2
}
